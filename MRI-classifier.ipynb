{
 "cells": [
  {
   "cell_type": "code",
   "execution_count": 67,
   "id": "3fd8c244",
   "metadata": {
    "scrolled": false
   },
   "outputs": [
    {
     "name": "stdout",
     "output_type": "stream",
     "text": [
      "[0 0 1 ... 0 0 0]\n",
      "[[6.53533936e+000 6.19587845e+002 2.48915215e+001 ... 4.47334559e+000\n",
      "  9.81938697e-001 7.45834073e-155]\n",
      " [8.74996948e+000 8.05957634e+002 2.83893930e+001 ... 3.22007157e+000\n",
      "  9.88834396e-001 7.45834073e-155]\n",
      " [7.34109497e+000 1.14380822e+003 3.38202339e+001 ... 5.98179980e+000\n",
      "  9.78013693e-001 7.45834073e-155]\n",
      " ...\n",
      " [1.80115204e+001 1.15158276e+003 3.39349785e+001 ... 5.10369972e+000\n",
      "  9.52181237e-001 7.45834073e-155]\n",
      " [1.33304291e+001 9.45732779e+002 3.07527686e+001 ... 6.43978421e+000\n",
      "  9.40898110e-001 7.45834073e-155]\n",
      " [6.11013794e+000 4.80884025e+002 2.19290680e+001 ... 6.78732909e+000\n",
      "  9.38730786e-001 7.45834073e-155]]\n"
     ]
    }
   ],
   "source": [
    "import numpy as np\n",
    "import pandas as pd\n",
    "\n",
    "attribute_names = []\n",
    "X = []\n",
    "y = []\n",
    "\n",
    "# Load csv dataset (Brain Tumor.csv).\n",
    "data = pd.read_csv(r'./data/Brain Tumor.csv', header=0)\n",
    "dataframe = pd.DataFrame(data)\n",
    "\n",
    "# Attribute_names label.\n",
    "attribute_names = list(data.columns)\n",
    "\n",
    "# All data features with 'Class' removed.\n",
    "X = dataframe.drop(['Class', 'Image'], axis=1).values\n",
    "\n",
    "# Classifier for brain tumor (true or false).\n",
    "y = dataframe['Class'].to_numpy()\n",
    "\n",
    "print(y)\n",
    "print(X)   "
   ]
  }
 ],
 "metadata": {
  "kernelspec": {
   "display_name": "Python 3 (ipykernel)",
   "language": "python",
   "name": "python3"
  },
  "language_info": {
   "codemirror_mode": {
    "name": "ipython",
    "version": 3
   },
   "file_extension": ".py",
   "mimetype": "text/x-python",
   "name": "python",
   "nbconvert_exporter": "python",
   "pygments_lexer": "ipython3",
   "version": "3.9.13"
  }
 },
 "nbformat": 4,
 "nbformat_minor": 5
}
