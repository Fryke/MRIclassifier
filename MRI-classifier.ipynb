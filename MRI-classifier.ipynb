{
 "cells": [
  {
   "cell_type": "code",
   "execution_count": 66,
   "id": "3fd8c244",
   "metadata": {
    "scrolled": false
   },
   "outputs": [
    {
     "name": "stdout",
     "output_type": "stream",
     "text": [
      "[0 0 1 ... 0 0 0]\n",
      "[['Image1' 6.53533935546875 619.587844574841 ... 4.47334558823529\n",
      "  0.981938696883038 7.45834073119875e-155]\n",
      " ['Image2' 8.74996948242188 805.957633995078 ... 3.22007156798959\n",
      "  0.988834395612519 7.45834073119875e-155]\n",
      " ['Image3' 7.34109497070313 1143.80821918438 ... 5.98179979777553\n",
      "  0.978013692812984 7.45834073119875e-155]\n",
      " ...\n",
      " ['Image3760' 18.0115203857422 1151.58276463827 ... 5.10369971908434\n",
      "  0.952181236657826 7.4583407312002e-155]\n",
      " ['Image3761' 13.3304290771484 945.732779312505 ... 6.43978421092622\n",
      "  0.940898109899322 7.4583407312002e-155]\n",
      " ['Image3762' 6.11013793945313 480.88402450775 ... 6.78732909164749\n",
      "  0.93873078636683 7.45834073120021e-155]]\n"
     ]
    }
   ],
   "source": [
    "import numpy as np\n",
    "import pandas as pd\n",
    "\n",
    "attribute_names = []\n",
    "X = []\n",
    "y = []\n",
    "\n",
    "# Load csv dataset (Brain Tumor.csv).\n",
    "data = pd.read_csv(r'./data/Brain Tumor.csv', header=0)\n",
    "dataframe = pd.DataFrame(data)\n",
    "\n",
    "# Attribute_names label.\n",
    "attribute_names = list(data.columns)\n",
    "\n",
    "# All data features with 'Class' removed.\n",
    "X = dataframe.drop(['Class'], axis=1).values\n",
    "\n",
    "# Classifier for brain tumor (true or false).\n",
    "y = dataframe['Class'].to_numpy()\n",
    "\n",
    "print(y)\n",
    "print(X)   "
   ]
  }
 ],
 "metadata": {
  "kernelspec": {
   "display_name": "Python 3 (ipykernel)",
   "language": "python",
   "name": "python3"
  },
  "language_info": {
   "codemirror_mode": {
    "name": "ipython",
    "version": 3
   },
   "file_extension": ".py",
   "mimetype": "text/x-python",
   "name": "python",
   "nbconvert_exporter": "python",
   "pygments_lexer": "ipython3",
   "version": "3.9.13"
  }
 },
 "nbformat": 4,
 "nbformat_minor": 5
}
